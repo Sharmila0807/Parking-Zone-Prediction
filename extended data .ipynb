{
 "cells": [
  {
   "cell_type": "code",
   "execution_count": 3,
   "metadata": {},
   "outputs": [
    {
     "name": "stdout",
     "output_type": "stream",
     "text": [
      "   Latitude  Longitude  Crime Rate  Security Presence  Traffic Density  \\\n",
      "0   13.0827    80.2707           5                  1                2   \n",
      "1   13.0674    80.2376          20                  0                3   \n",
      "2   13.0358    80.2449           3                  1                1   \n",
      "3   13.0846    80.2179           7                  0                2   \n",
      "4   13.0903    80.2125          25                  0                3   \n",
      "\n",
      "   Lighting Quality    Zone Type  \n",
      "0                 3    Safe Zone  \n",
      "1                 1  Danger Zone  \n",
      "2                 2    Safe Zone  \n",
      "3                 3    Safe Zone  \n",
      "4                 1  Danger Zone  \n"
     ]
    }
   ],
   "source": [
    "import pandas as pd\n",
    "import numpy as np\n",
    "\n",
    "# Current data\n",
    "data = pd.read_clipboard()\n",
    "\n",
    "# Define ranges for latitude and longitude (Chennai area)\n",
    "lat_range = (13.0000, 13.1000)\n",
    "long_range = (80.2000, 80.3000)\n",
    "\n",
    "# Number of samples to generate\n",
    "num_samples = 100\n",
    "\n",
    "# Function to generate synthetic data\n",
    "def generate_new_data(num_samples, lat_range, long_range):\n",
    "    np.random.seed(42)\n",
    "    new_data = {\n",
    "        'Latitude': np.random.uniform(lat_range[0], lat_range[1], num_samples),\n",
    "        'Longitude': np.random.uniform(long_range[0], long_range[1], num_samples),\n",
    "        'Crime Rate': np.random.choice([3, 5, 6, 7, 12, 18, 20, 25], num_samples),\n",
    "        'Security Presence': np.random.choice([0, 1], num_samples),\n",
    "        'Traffic Density': np.random.choice([1, 2, 3], num_samples),\n",
    "        'Lighting Quality': np.random.choice([1, 2, 3], num_samples),\n",
    "        'Zone Type': [''] * num_samples\n",
    "    }\n",
    "    \n",
    "    new_data = pd.DataFrame(new_data)\n",
    "    \n",
    "    # Heuristic for Zone Type assignment\n",
    "    for i in range(num_samples):\n",
    "        if new_data.loc[i, 'Crime Rate'] > 10 and new_data.loc[i, 'Security Presence'] == 0:\n",
    "            new_data.loc[i, 'Zone Type'] = 'Danger Zone'\n",
    "        else:\n",
    "            new_data.loc[i, 'Zone Type'] = 'Safe Zone'\n",
    "    \n",
    "    return new_data\n",
    "\n",
    "# Generate new data\n",
    "new_data = generate_new_data(num_samples, lat_range, long_range)\n",
    "\n",
    "# Append to the existing data\n",
    "extended_data = pd.concat([data, new_data], ignore_index=True)\n",
    "\n",
    "# Display the first few rows of the new data\n",
    "print(extended_data.head())\n",
    "\n",
    "# Save the extended data to a new CSV file\n",
    "extended_data.to_csv('extended_chennai_data.csv', index=False)\n"
   ]
  }
 ],
 "metadata": {
  "kernelspec": {
   "display_name": "Python 3",
   "language": "python",
   "name": "python3"
  },
  "language_info": {
   "codemirror_mode": {
    "name": "ipython",
    "version": 3
   },
   "file_extension": ".py",
   "mimetype": "text/x-python",
   "name": "python",
   "nbconvert_exporter": "python",
   "pygments_lexer": "ipython3",
   "version": "3.12.0"
  }
 },
 "nbformat": 4,
 "nbformat_minor": 2
}
